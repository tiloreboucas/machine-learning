{
  "nbformat": 4,
  "nbformat_minor": 0,
  "metadata": {
    "colab": {
      "provenance": [],
      "authorship_tag": "ABX9TyPjmwTZz81BwRaefeZYaqyV",
      "include_colab_link": true
    },
    "kernelspec": {
      "name": "python3",
      "display_name": "Python 3"
    },
    "language_info": {
      "name": "python"
    }
  },
  "cells": [
    {
      "cell_type": "markdown",
      "metadata": {
        "id": "view-in-github",
        "colab_type": "text"
      },
      "source": [
        "<a href=\"https://colab.research.google.com/github/tiloreboucas/machine-learning/blob/main/RegressaoLinear.ipynb\" target=\"_parent\"><img src=\"https://colab.research.google.com/assets/colab-badge.svg\" alt=\"Open In Colab\"/></a>"
      ]
    },
    {
      "cell_type": "code",
      "execution_count": 1,
      "metadata": {
        "id": "-1t_-1R0cSEJ"
      },
      "outputs": [],
      "source": [
        "from numpy import *\n",
        "\n",
        "class LinearRegression:\n",
        "    def __init__(self, x, y):\n",
        "        self.x = x\n",
        "        self.y = y\n",
        "\n",
        "        self.__correlation_coefficient = self.__correlacao()\n",
        "        self.__inclination = self.__inclinacao()\n",
        "        self.__intercept = self.__interceptacao()\n",
        "\n",
        "    def __correlacao(self):\n",
        "        covariacao = cov(self.x, self.y, bias=True)[0][1]\n",
        "        variancia_x = var(self.x)\n",
        "        variancia_y = var(self.y)\n",
        "\n",
        "        return covariacao / sqrt(variancia_x * variancia_y)\n",
        "\n",
        "    def __inclinacao(self):\n",
        "        stdx = std(self.x)\n",
        "        stdy = std(self.y)\n",
        "\n",
        "        return self.__correlation_coefficient * (stdy / stdx)\n",
        "\n",
        "    def __interceptacao(self):\n",
        "        mediax = mean(self.x)\n",
        "        mediay = mean(self.y)\n",
        "\n",
        "        return mediay - mediax * self.__inclination\n",
        "\n",
        "    def previsao(self, valor):\n",
        "        return self.__intercept + (self.__inclination * valor)"
      ]
    },
    {
      "cell_type": "code",
      "source": [
        "x = array([10, 14, 37, 64, 82])\n",
        "y = array([53, 62, 68, 70, 95])\n",
        "\n",
        "lr = LinearRegression(x, y)\n",
        "previsao = lr.previsao(38)\n",
        "\n",
        "print(previsao)"
      ],
      "metadata": {
        "colab": {
          "base_uri": "https://localhost:8080/"
        },
        "id": "--3u_Bimdpra",
        "outputId": "b9fa3db3-d707-407f-c546-9bac26aa1de8"
      },
      "execution_count": 3,
      "outputs": [
        {
          "output_type": "stream",
          "name": "stdout",
          "text": [
            "68.05700858193705\n"
          ]
        }
      ]
    }
  ]
}